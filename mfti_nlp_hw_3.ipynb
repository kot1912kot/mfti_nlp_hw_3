{
  "nbformat": 4,
  "nbformat_minor": 0,
  "metadata": {
    "colab": {
      "provenance": []
    },
    "kernelspec": {
      "name": "python3",
      "display_name": "Python 3"
    },
    "language_info": {
      "name": "python"
    }
  },
  "cells": [
    {
      "cell_type": "markdown",
      "source": [
        "# 1. Подготовка данных"
      ],
      "metadata": {
        "id": "WRsw2fXig7UN"
      }
    },
    {
      "cell_type": "code",
      "execution_count": 1,
      "metadata": {
        "id": "UwoUHjamg3yJ"
      },
      "outputs": [],
      "source": [
        "# Импортируем библиотеки\n",
        "import torch\n",
        "from torch.utils.data import Dataset, DataLoader\n",
        "from collections import Counter\n",
        "from torch.nn.utils.rnn import pad_sequence\n",
        "from sklearn.metrics import f1_score"
      ]
    },
    {
      "cell_type": "code",
      "source": [
        "# Прочитаем файлы\n",
        "def read_file(file_path):\n",
        "    with open(file_path, 'r', encoding='utf-8') as file:\n",
        "        lines = file.readlines()\n",
        "        sentences = []\n",
        "        sentence = []\n",
        "        for line in lines:\n",
        "            line = line.strip()\n",
        "            if not line:\n",
        "                if sentence:\n",
        "                    sentences.append(sentence)\n",
        "                    sentence = []\n",
        "            else:\n",
        "                word, tag = line.split()\n",
        "                sentence.append((word, tag))\n",
        "        if sentence:\n",
        "            sentences.append(sentence)\n",
        "    return sentences\n",
        "\n",
        "train_sentences = read_file('train.txt')\n",
        "dev_sentences = read_file('dev.txt')\n",
        "test_sentences = read_file('test.txt')"
      ],
      "metadata": {
        "id": "_ixnwCz1hL-n"
      },
      "execution_count": 2,
      "outputs": []
    },
    {
      "cell_type": "code",
      "source": [
        "train_sentences[0]"
      ],
      "metadata": {
        "colab": {
          "base_uri": "https://localhost:8080/"
        },
        "id": "RzCz9BcxhS9-",
        "outputId": "965636f1-2741-4d2b-f5a2-8b90a2afd019"
      },
      "execution_count": 3,
      "outputs": [
        {
          "output_type": "execute_result",
          "data": {
            "text/plain": [
              "[('\"', 'O'),\n",
              " ('Если', 'O'),\n",
              " ('Миронов', 'B-PER'),\n",
              " ('занял', 'O'),\n",
              " ('столь', 'O'),\n",
              " ('оппозиционную', 'O'),\n",
              " ('позицию', 'O'),\n",
              " (',', 'O'),\n",
              " ('то', 'O'),\n",
              " ('мне', 'O'),\n",
              " ('представляется', 'O'),\n",
              " (',', 'O'),\n",
              " ('что', 'O'),\n",
              " ('для', 'O'),\n",
              " ('него', 'O'),\n",
              " ('было', 'O'),\n",
              " ('бы', 'O'),\n",
              " ('порядочным', 'O'),\n",
              " ('и', 'O'),\n",
              " ('правильным', 'O'),\n",
              " ('уйти', 'O'),\n",
              " ('в', 'O'),\n",
              " ('отставку', 'O'),\n",
              " ('с', 'O'),\n",
              " ('занимаемого', 'O'),\n",
              " ('им', 'O'),\n",
              " ('поста', 'O'),\n",
              " (',', 'O'),\n",
              " ('поста', 'O'),\n",
              " (',', 'O'),\n",
              " ('который', 'O'),\n",
              " ('предоставлен', 'O'),\n",
              " ('ему', 'O'),\n",
              " ('сегодня', 'O'),\n",
              " ('\"', 'O'),\n",
              " ('Единой', 'B-ORG'),\n",
              " ('Россией', 'I-ORG'),\n",
              " (\"''\", 'O'),\n",
              " ('и', 'O'),\n",
              " ('никем', 'O'),\n",
              " ('больше', 'O'),\n",
              " (\"''\", 'O'),\n",
              " (',', 'O'),\n",
              " ('-', 'O'),\n",
              " ('заключает', 'O'),\n",
              " ('Исаев', 'B-PER'),\n",
              " ('.', 'O')]"
            ]
          },
          "metadata": {},
          "execution_count": 3
        }
      ]
    },
    {
      "cell_type": "code",
      "source": [
        "# Построим словари\n",
        "word2idx = {\"<PAD>\": 0, \"<UNK>\": 1}\n",
        "tag2idx = {\"<PAD>\": 0}\n",
        "for sentence in train_sentences:\n",
        "    for word, tag in sentence:\n",
        "        if word not in word2idx:\n",
        "            word2idx[word] = len(word2idx)\n",
        "        if tag not in tag2idx:\n",
        "            tag2idx[tag] = len(tag2idx)\n",
        "\n",
        "idx2tag = {idx: tag for tag, idx in tag2idx.items()}"
      ],
      "metadata": {
        "id": "Y6JP_YP7hZJo"
      },
      "execution_count": 4,
      "outputs": []
    },
    {
      "cell_type": "code",
      "source": [
        "idx2tag"
      ],
      "metadata": {
        "colab": {
          "base_uri": "https://localhost:8080/"
        },
        "id": "qHj__EiahgmO",
        "outputId": "9d280173-79ca-4efe-d3c9-1a6698ab8939"
      },
      "execution_count": 5,
      "outputs": [
        {
          "output_type": "execute_result",
          "data": {
            "text/plain": [
              "{0: '<PAD>',\n",
              " 1: 'O',\n",
              " 2: 'B-PER',\n",
              " 3: 'B-ORG',\n",
              " 4: 'I-ORG',\n",
              " 5: 'B-LOC',\n",
              " 6: 'I-LOC',\n",
              " 7: 'I-PER'}"
            ]
          },
          "metadata": {},
          "execution_count": 5
        }
      ]
    },
    {
      "cell_type": "code",
      "source": [
        "# Конвертируем слова в индексы\n",
        "def convert_to_ids(sentences, word2idx, tag2idx):\n",
        "    sentences_ids = []\n",
        "    for sentence in sentences:\n",
        "        words_ids = [word2idx.get(word, word2idx[\"<UNK>\"]) for word, _ in sentence]\n",
        "        tags_ids = [tag2idx[tag] for _, tag in sentence]\n",
        "        sentences_ids.append((words_ids, tags_ids))\n",
        "    return sentences_ids\n",
        "\n",
        "train_data_ids = convert_to_ids(train_sentences, word2idx, tag2idx)\n",
        "dev_data_ids = convert_to_ids(dev_sentences, word2idx, tag2idx)\n",
        "test_data_ids = convert_to_ids(test_sentences, word2idx, tag2idx)"
      ],
      "metadata": {
        "id": "YodbpFQ4hmcU"
      },
      "execution_count": 6,
      "outputs": []
    },
    {
      "cell_type": "code",
      "source": [
        "# Создание класса датасета для загрузки данных и преобразование входных данных в тензоры\n",
        "\n",
        "class NERDataset(Dataset):\n",
        "    def __init__(self, sentences_ids):\n",
        "        self.sentences_ids = sentences_ids\n",
        "\n",
        "    def __len__(self):\n",
        "        return len(self.sentences_ids)\n",
        "\n",
        "    def __getitem__(self, idx):\n",
        "        return torch.tensor(self.sentences_ids[idx][0]), torch.tensor(self.sentences_ids[idx][1])\n",
        "\n",
        "def collate_fn(batch):\n",
        "    sentences, tags = zip(*batch)\n",
        "    sentences_padded = pad_sequence(sentences, batch_first=True, padding_value=word2idx[\"<PAD>\"])\n",
        "    tags_padded = pad_sequence(tags, batch_first=True, padding_value=tag2idx[\"<PAD>\"])\n",
        "    return sentences_padded, tags_padded\n",
        "\n",
        "train_dataset = NERDataset(train_data_ids)\n",
        "dev_dataset = NERDataset(dev_data_ids)\n",
        "test_dataset = NERDataset(test_data_ids)\n",
        "\n",
        "BATCH_SIZE = 32\n",
        "train_loader = DataLoader(train_dataset, batch_size=BATCH_SIZE, shuffle=True, collate_fn=collate_fn)\n",
        "dev_loader = DataLoader(dev_dataset, batch_size=BATCH_SIZE, shuffle=False, collate_fn=collate_fn)\n",
        "test_loader = DataLoader(test_dataset, batch_size=BATCH_SIZE, shuffle=False, collate_fn=collate_fn)"
      ],
      "metadata": {
        "id": "TPNIXBD1g8rs"
      },
      "execution_count": 7,
      "outputs": []
    },
    {
      "cell_type": "markdown",
      "source": [
        "# Выбор модели"
      ],
      "metadata": {
        "id": "ofxZL12ynHD1"
      }
    },
    {
      "cell_type": "code",
      "source": [
        "# В качестве модели выберем BiLSTM\n",
        "# BiLSTM является одной из разновидностей рекуррентных сетей. LSTM (Long Short-Term Memory) — это специализированная версия RNN, которая более устойчива к проблемам с градиентами,\n",
        "# обычно возникающими при обучении стандартных RNN. BiLSTM (Bidirectional LSTM) — это LSTM, которая обрабатывает данные в двух направлениях (вперед и назад),\n",
        "# что позволяет улавливать контекстную информацию лучше, чем обычная однонаправленная LSTM.\n",
        "\n",
        "import torch.nn as nn\n",
        "\n",
        "class BiLSTMNER(nn.Module):\n",
        "    def __init__(self, vocab_size, embedding_dim, hidden_dim, output_dim, dropout_rate):\n",
        "        super(BiLSTMNER, self).__init__()\n",
        "\n",
        "        self.embedding = nn.Embedding(vocab_size, embedding_dim)\n",
        "        self.rnn = nn.LSTM(embedding_dim, hidden_dim, bidirectional=True, batch_first=True)\n",
        "        self.fc = nn.Linear(hidden_dim * 2, output_dim)\n",
        "        self.dropout = nn.Dropout(dropout_rate)\n",
        "\n",
        "    def forward(self, text):\n",
        "        embedded = self.dropout(self.embedding(text))\n",
        "        rnn_out, _ = self.rnn(embedded)\n",
        "        logits = self.fc(self.dropout(rnn_out))\n",
        "        return logits"
      ],
      "metadata": {
        "id": "kv606u4ihs9U"
      },
      "execution_count": 8,
      "outputs": []
    },
    {
      "cell_type": "code",
      "source": [
        "# Подбор гиперпараметров\n",
        "EMBEDDING_DIM = 100\n",
        "HIDDEN_DIM = 128\n",
        "OUTPUT_DIM = len(tag2idx)\n",
        "DROPOUT = 0.5\n",
        "N_EPOCHS = 10\n",
        "LEARNING_RATE = 0.001\n",
        "\n",
        "device = torch.device('cuda' if torch.cuda.is_available() else 'cpu')\n",
        "model = BiLSTMNER(len(word2idx), EMBEDDING_DIM, HIDDEN_DIM, OUTPUT_DIM, DROPOUT).to(device)\n",
        "optimizer = torch.optim.Adam(model.parameters(), lr=LEARNING_RATE)\n",
        "criterion = nn.CrossEntropyLoss(ignore_index=tag2idx[\"<PAD>\"])\n",
        "\n",
        "# Для уменьшения lr во время обучения\n",
        "scheduler = torch.optim.lr_scheduler.ReduceLROnPlateau(optimizer, 'min')"
      ],
      "metadata": {
        "id": "xRda5KhCh0bL"
      },
      "execution_count": 9,
      "outputs": []
    },
    {
      "cell_type": "markdown",
      "source": [
        "# 3. Обучение модели"
      ],
      "metadata": {
        "id": "1_0CxWMMnbEO"
      }
    },
    {
      "cell_type": "code",
      "source": [
        "# Определим функции обучения и валидации\n",
        "def train(model, iterator, optimizer, criterion):\n",
        "    model.train()\n",
        "    epoch_loss = 0\n",
        "    for words, tags in iterator:\n",
        "        if isinstance(words, list) or isinstance(tags, list):\n",
        "            raise TypeError(f\"words type: {type(words)}, tags type: {type(tags)}\")\n",
        "        words, tags = words.to(device), tags.to(device)\n",
        "        predictions = model(words)\n",
        "        predictions_dim = predictions.shape[-1]\n",
        "        predictions = predictions.view(-1, predictions_dim)\n",
        "        tags = tags.view(-1)\n",
        "        loss = criterion(predictions, tags)\n",
        "        loss.backward()\n",
        "        optimizer.step()\n",
        "        optimizer.zero_grad()\n",
        "        epoch_loss += loss.item()\n",
        "    return epoch_loss / len(iterator)\n",
        "\n",
        "def evaluate(model, iterator, criterion):\n",
        "    model.eval()\n",
        "    epoch_loss = 0\n",
        "    with torch.no_grad():\n",
        "        for words, tags in iterator:\n",
        "            predictions = model(words)\n",
        "            predictions_dim = predictions.shape[-1]\n",
        "            predictions = predictions.view(-1, predictions_dim)\n",
        "            tags = tags.view(-1)\n",
        "            loss = criterion(predictions, tags)\n",
        "            epoch_loss += loss.item()\n",
        "    return epoch_loss / len(iterator)"
      ],
      "metadata": {
        "id": "mn3KJ0jHiDYP"
      },
      "execution_count": 10,
      "outputs": []
    },
    {
      "cell_type": "code",
      "source": [
        "# Обучение\n",
        "best_valid_loss = float('inf')\n",
        "for epoch in range(N_EPOCHS):\n",
        "    train_loss = train(model, train_loader, optimizer, criterion)\n",
        "    valid_loss = evaluate(model, dev_loader, criterion)\n",
        "    if valid_loss < best_valid_loss:\n",
        "        best_valid_loss = valid_loss\n",
        "        torch.save(model.state_dict(), 'best-model.pt')\n",
        "    scheduler.step(valid_loss)"
      ],
      "metadata": {
        "id": "T65jPiOAiMJp"
      },
      "execution_count": 11,
      "outputs": []
    },
    {
      "cell_type": "markdown",
      "source": [
        "# 4. Тестирование модели"
      ],
      "metadata": {
        "id": "NcsCaK9ynf6l"
      }
    },
    {
      "cell_type": "code",
      "source": [
        "model.load_state_dict(torch.load('best-model.pt'))\n",
        "\n",
        "def get_predictions(model, iterator):\n",
        "    model.eval()\n",
        "    all_predictions = []\n",
        "    all_tags = []\n",
        "    with torch.no_grad():\n",
        "        for words, tags in iterator:\n",
        "            predictions = model(words)\n",
        "            _, top_class = predictions.topk(1, dim=2)\n",
        "            all_predictions.extend(top_class.view(-1).tolist())\n",
        "            all_tags.extend(tags.view(-1).tolist())\n",
        "    return all_predictions, all_tags\n",
        "\n",
        "predictions, labels = get_predictions(model, test_loader)\n",
        "# Уберем <PAD> теги\n",
        "predictions = [p for p, l in zip(predictions, labels) if l != tag2idx[\"<PAD>\"]]\n",
        "labels = [l for l in labels if l != tag2idx[\"<PAD>\"]]\n",
        "\n",
        "f1 = f1_score(labels, predictions, average='weighted')\n",
        "print(f\"F1 Score: {f1:.3f}\")"
      ],
      "metadata": {
        "colab": {
          "base_uri": "https://localhost:8080/"
        },
        "id": "bKJplxgBlv9O",
        "outputId": "e045bd79-bd5b-432d-a0ee-25826c959ab2"
      },
      "execution_count": 12,
      "outputs": [
        {
          "output_type": "stream",
          "name": "stdout",
          "text": [
            "F1 Score: 0.931\n"
          ]
        }
      ]
    },
    {
      "cell_type": "markdown",
      "source": [
        "# 5. Вывод"
      ],
      "metadata": {
        "id": "tyjn6jJ2nmww"
      }
    },
    {
      "cell_type": "markdown",
      "source": [
        "С помощью подбора гиперпараметров нам удалось постоить отличную модель с показателем F1 Score: 0.931. Таким образом применение модели BiLSTM является наилучшим"
      ],
      "metadata": {
        "id": "Hjq4SZM8npvY"
      }
    },
    {
      "cell_type": "code",
      "source": [],
      "metadata": {
        "id": "kTCgu0qRnov5"
      },
      "execution_count": null,
      "outputs": []
    }
  ]
}